{
 "cells": [
  {
   "cell_type": "code",
   "execution_count": 17,
   "id": "a2497960",
   "metadata": {},
   "outputs": [],
   "source": [
    "import numpy as np\n",
    "import matplotlib.pyplot as plt\n",
    "\n",
    "# x方向\n",
    "def euler_method_2ord_x(t0, v0, y0, tmax, n=14):\n",
    "    # t0~tmaxを(2**n+1)*4個に分割\n",
    "    t = np.linspace(t0, tmax, (2**n + 1)*4)\n",
    "    \n",
    "    # tの刻み幅Δt\n",
    "    dt = t[1] - t[0]\n",
    "    \n",
    "    # tと同じ形状の未初期化配列を生成\n",
    "    v = np.empty_like(t)\n",
    "    y = np.empty_like(t)\n",
    "    \n",
    "    # v[0]に初期値y0を代入\n",
    "    v[0] = v0\n",
    "    y[0] = y0\n",
    "    \n",
    "    # オイラー法でt毎の数値解を計算\n",
    "    for k in range(len(t) - 1):\n",
    "        v[k+1] = v[k]\n",
    "        y[k+1] = y[k] + v[k] * dt\n",
    "    \n",
    "    return t, v, y\n",
    "\n",
    "# y方向\n",
    "def euler_method_2ord_y(t0, v0, y0, tmax, n=14):\n",
    "    # t0~tmaxを(2**n+1)*4個に分割\n",
    "    t = np.linspace(t0, tmax, (2**n + 1)*4)\n",
    "    \n",
    "    # tの刻み幅Δt\n",
    "    dt = t[1] - t[0]\n",
    "    \n",
    "    # tと同じ形状の未初期化配列を生成\n",
    "    v = np.empty_like(t)\n",
    "    y = np.empty_like(t)\n",
    "    \n",
    "    # v[0]に初期値y0を代入\n",
    "    v[0] = v0\n",
    "    y[0] = y0\n",
    "    \n",
    "    # 地球の重力加速度 \n",
    "    g = 9.8\n",
    "    \n",
    "    # オイラー法でt毎の数値解を計算\n",
    "    for k in range(len(t) - 1):\n",
    "        v[k+1] = v[k] - g * dt\n",
    "        y[k+1] = y[k] + v[k] * dt\n",
    "    \n",
    "    return t, v, y\n",
    "\n",
    "# 投射関数\n",
    "# t0:初期時刻\n",
    "# v0:初速度の絶対値\n",
    "# r0:投射地点の座標\n",
    "# theta:仰角\n",
    "# g:重力加速度\n",
    "def projectile_motion(t0, v0, r0, tmax, theta, n=14):\n",
    "    # 初速度のx成分とy成分\n",
    "    vx0 = v0 * np.cos(theta)\n",
    "    vy0 = v0 * np.sin(theta)\n",
    "    \n",
    "    # 投射地点の座標\n",
    "    x0 = r0[0]\n",
    "    y0 = r0[1]\n",
    "    \n",
    "    # x方向の運動方程式をオイラー法で解く\n",
    "    t, vx, x = euler_method_2ord_x(t0, vx0, x0, tmax, n=n)\n",
    "    \n",
    "    # y方向の運動方程式をオイラー法で解く\n",
    "    t, vy, y = euler_method_2ord_y(t0, vy0, y0, tmax, n=n)\n",
    "    \n",
    "    return t, x, y, vx, vy"
   ]
  },
  {
   "cell_type": "code",
   "execution_count": 19,
   "id": "c344b8e5",
   "metadata": {},
   "outputs": [
    {
     "data": {
      "text/plain": [
       "<matplotlib.collections.PathCollection at 0x7ff0908033a0>"
      ]
     },
     "execution_count": 19,
     "metadata": {},
     "output_type": "execute_result"
    },
    {
     "data": {
      "image/png": "[encoded data removed]",
      "text/plain": [
       "<Figure size 800x400 with 1 Axes>"
      ]
     },
     "metadata": {},
     "output_type": "display_data"
    }
   ],
   "source": [
    "# 初期時刻\n",
    "t0 = 0\n",
    "\n",
    "# 初速度の絶対値\n",
    "v0 = 30\n",
    "\n",
    "# 投射地点の座標\n",
    "r0 = (0,100)\n",
    "\n",
    "# 時刻の最大値\n",
    "tmax = 150\n",
    "\n",
    "# 投射角度(0°)\n",
    "theta = 0\n",
    "\n",
    "# スライスでt,x,yのデータを取得\n",
    "t, x, y = projectile_motion(t0, v0, r0, tmax, theta, n=8)[0:3]\n",
    "\n",
    "# y>0のデータを抽出\n",
    "t, x, y = t[y >= 0], x[y >= 0], y[y >= 0]\n",
    "\n",
    "# 斜方投射された物体の軌道を散布図にプロット\n",
    "fig, ax = plt.subplots(figsize=(8, 4))\n",
    "ax.set_title(\"Projectile motion on the earth\", fontsize=16, pad=10)\n",
    "ax.grid()\n",
    "ax.set_xlabel(\"x [m]\", fontsize=14, labelpad=8)\n",
    "ax.set_ylabel(\"y [m]\", fontsize=14, labelpad=8)\n",
    "ax.scatter(x, y, color=\"blue\", s=2)"
   ]
  }
 ],
 "metadata": {
  "kernelspec": {
   "display_name": "base",
   "language": "python",
   "name": "python3"
  },
  "language_info": {
   "codemirror_mode": {
    "name": "ipython",
    "version": 3
   },
   "file_extension": ".py",
   "mimetype": "text/x-python",
   "name": "python",
   "nbconvert_exporter": "python",
   "pygments_lexer": "ipython3",
   "version": "3.9.13 (main, Aug 25 2022, 18:29:29) \n[Clang 12.0.0 ]"
  },
  "vscode": {
   "interpreter": {
    "hash": "111dffe66cd8fb346c0183b93ff2450ea2004e1230f51e9dac14ab8cbf58f839"
   }
  }
 },
 "nbformat": 4,
 "nbformat_minor": 5
}
